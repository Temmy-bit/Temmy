{
  "cells": [
    {
      "cell_type": "markdown",
      "metadata": {
        "id": "view-in-github",
        "colab_type": "text"
      },
      "source": [
        "<a href=\"https://colab.research.google.com/github/Temmy-bit/Temmy/blob/main/Project.ipynb\" target=\"_parent\"><img src=\"https://colab.research.google.com/assets/colab-badge.svg\" alt=\"Open In Colab\"/></a>"
      ]
    },
    {
      "cell_type": "code",
      "execution_count": null,
      "metadata": {
        "colab": {
          "base_uri": "https://localhost:8080/"
        },
        "id": "gflc40EnzjM8",
        "outputId": "f3f54628-7e2b-4c88-fdb4-de7be58cac86"
      },
      "outputs": [
        {
          "output_type": "execute_result",
          "data": {
            "text/plain": [
              "<function google.colab.drive.mount>"
            ]
          },
          "metadata": {},
          "execution_count": 1
        }
      ],
      "source": [
        "from google.colab import drive\n",
        "drive.mount"
      ]
    },
    {
      "cell_type": "code",
      "execution_count": null,
      "metadata": {
        "id": "JPt8Ch3kQA4z"
      },
      "outputs": [],
      "source": [
        "import tensorflow as tf\n",
        "from tensorflow import keras\n",
        "import numpy as np\n",
        "import matplotlib.pyplot as plt\n",
        "import pandas as pd\n",
        "# from tensorflow.keras.datasets import mnist\n",
        "import cv2 as cv\n",
        "from sklearn.preprocessing import LabelEncoder, LabelBinarizer\n",
        "from sklearn.model_selection import train_test_split\n",
        "from tensorflow.keras.applications import ResNet50V2, ResNet50"
      ]
    },
    {
      "cell_type": "code",
      "execution_count": null,
      "metadata": {
        "id": "Bdzlx9huHEV6"
      },
      "outputs": [],
      "source": [
        "from keras.models import Sequential\n",
        "from keras import optimizers\n",
        "from keras.layers import Convolution2D, MaxPooling2D, Dropout, Flatten, Dense, Reshape, LSTM\n",
        "from keras import backend as K\n",
        "from keras.constraints import maxnorm"
      ]
    },
    {
      "cell_type": "code",
      "execution_count": null,
      "metadata": {
        "colab": {
          "base_uri": "https://localhost:8080/"
        },
        "id": "AbdX5clj46FX",
        "outputId": "0923dd2b-3182-4382-f001-a8cd1c3c7a29"
      },
      "outputs": [
        {
          "output_type": "stream",
          "name": "stdout",
          "text": [
            "Collecting extra_keras_datasets\n",
            "  Downloading extra_keras_datasets-1.2.0-py3-none-any.whl (12 kB)\n",
            "Requirement already satisfied: pandas in /usr/local/lib/python3.7/dist-packages (from extra_keras_datasets) (1.3.5)\n",
            "Requirement already satisfied: scikit-learn in /usr/local/lib/python3.7/dist-packages (from extra_keras_datasets) (1.0.2)\n",
            "Requirement already satisfied: numpy in /usr/local/lib/python3.7/dist-packages (from extra_keras_datasets) (1.21.6)\n",
            "Requirement already satisfied: scipy in /usr/local/lib/python3.7/dist-packages (from extra_keras_datasets) (1.4.1)\n",
            "Requirement already satisfied: pytz>=2017.3 in /usr/local/lib/python3.7/dist-packages (from pandas->extra_keras_datasets) (2022.1)\n",
            "Requirement already satisfied: python-dateutil>=2.7.3 in /usr/local/lib/python3.7/dist-packages (from pandas->extra_keras_datasets) (2.8.2)\n",
            "Requirement already satisfied: six>=1.5 in /usr/local/lib/python3.7/dist-packages (from python-dateutil>=2.7.3->pandas->extra_keras_datasets) (1.15.0)\n",
            "Requirement already satisfied: joblib>=0.11 in /usr/local/lib/python3.7/dist-packages (from scikit-learn->extra_keras_datasets) (1.1.0)\n",
            "Requirement already satisfied: threadpoolctl>=2.0.0 in /usr/local/lib/python3.7/dist-packages (from scikit-learn->extra_keras_datasets) (3.1.0)\n",
            "Installing collected packages: extra-keras-datasets\n",
            "Successfully installed extra-keras-datasets-1.2.0\n"
          ]
        }
      ],
      "source": [
        "! pip install extra_keras_datasets"
      ]
    },
    {
      "cell_type": "code",
      "execution_count": null,
      "metadata": {
        "colab": {
          "base_uri": "https://localhost:8080/"
        },
        "id": "W7yV9FBs5fw8",
        "outputId": "ba47a8f0-e11a-4bce-840c-00d4b36e4cb7"
      },
      "outputs": [
        {
          "output_type": "stream",
          "name": "stderr",
          "text": [
            "INFO:root:Loading dataset = emnist\n"
          ]
        },
        {
          "output_type": "stream",
          "name": "stdout",
          "text": [
            "Downloading data from http://www.itl.nist.gov/iaui/vip/cs_links/EMNIST/matlab.zip\n",
            "743907328/743900280 [==============================] - 11s 0us/step\n",
            "743915520/743900280 [==============================] - 11s 0us/step\n"
          ]
        },
        {
          "output_type": "stream",
          "name": "stderr",
          "text": [
            "WARNING:root:Please cite the following paper when using or referencing this Extra Keras Dataset:\n",
            "WARNING:root:Cohen, G., Afshar, S., Tapson, J., & van Schaik, A. (2017). EMNIST: an extension of MNIST to handwritten letters. Retrieved from http://arxiv.org/abs/1702.05373\n"
          ]
        }
      ],
      "source": [
        "from extra_keras_datasets import emnist\n",
        "(X_train, y_train), (X_test, y_test) = emnist.load_data(type='byclass')"
      ]
    },
    {
      "cell_type": "code",
      "execution_count": null,
      "metadata": {
        "id": "KISkBB8P7oW0"
      },
      "outputs": [],
      "source": [
        "X_train = np.array(X_train) / 255.0\n",
        "y_train = np.array(y_train)\n",
        "X_test = np.array(X_test) / 255.0\n",
        "y_test = np.array(y_test)"
      ]
    },
    {
      "cell_type": "code",
      "execution_count": null,
      "metadata": {
        "colab": {
          "base_uri": "https://localhost:8080/"
        },
        "id": "OYBmio0OQRQm",
        "outputId": "e701ff3a-8a90-4d76-b133-c7f0c9018f0a"
      },
      "outputs": [
        {
          "output_type": "execute_result",
          "data": {
            "text/plain": [
              "(697932, 28, 28)"
            ]
          },
          "metadata": {},
          "execution_count": 7
        }
      ],
      "source": [
        "X_train.shape"
      ]
    },
    {
      "cell_type": "code",
      "execution_count": null,
      "metadata": {
        "colab": {
          "base_uri": "https://localhost:8080/"
        },
        "id": "EIBQ8TlliWal",
        "outputId": "027e0238-fae8-4315-e986-117e584bf306"
      },
      "outputs": [
        {
          "output_type": "execute_result",
          "data": {
            "text/plain": [
              "(116323, 28, 28)"
            ]
          },
          "metadata": {},
          "execution_count": 8
        }
      ],
      "source": [
        "X_test.shape"
      ]
    },
    {
      "cell_type": "code",
      "execution_count": null,
      "metadata": {
        "colab": {
          "base_uri": "https://localhost:8080/"
        },
        "id": "H5lHwIMpiZzm",
        "outputId": "ca7edd62-9491-450d-865e-06fcd2f1ab99"
      },
      "outputs": [
        {
          "output_type": "execute_result",
          "data": {
            "text/plain": [
              "array([35, 36,  6, ...,  5, 11, 22], dtype=uint8)"
            ]
          },
          "metadata": {},
          "execution_count": 9
        }
      ],
      "source": [
        "y_train"
      ]
    },
    {
      "cell_type": "code",
      "execution_count": null,
      "metadata": {
        "id": "WuwKXO4xie0X"
      },
      "outputs": [],
      "source": [
        "#Reshaping all images into 28*28 for pre-processing\n",
        "X_train = X_train.reshape(X_train.shape[0], 28, 28)\n",
        "X_test = X_test.reshape(X_test.shape[0], 28, 28)"
      ]
    },
    {
      "cell_type": "code",
      "execution_count": null,
      "metadata": {
        "id": "XZHL1OZB8Jxg"
      },
      "outputs": [],
      "source": [
        "X_train = X_train.reshape(X_train.shape[0], 28, 28)\n",
        "X_test = X_test.reshape(X_test.shape[0], 28, 28)"
      ]
    },
    {
      "cell_type": "code",
      "execution_count": null,
      "metadata": {
        "id": "CML-fGw9NHOp"
      },
      "outputs": [],
      "source": [
        "data = np.vstack([X_train, X_test])\n",
        "labels = np.hstack([y_train, y_test])\n",
        "\n",
        "\n",
        "data = [cv.resize(image, (32, 32)) for image in data]\n",
        "data = np.array(data, dtype=\"float32\")\n",
        "\n",
        "# add a channel dimension to every image in the dataset and scale the\n",
        "# pixel intensities of the images from [0, 255] down to [0, 1]\n",
        "\n",
        "data = np.expand_dims(data, axis=-1)\n",
        "# data /= 255.0"
      ]
    },
    {
      "cell_type": "code",
      "execution_count": null,
      "metadata": {
        "colab": {
          "base_uri": "https://localhost:8080/"
        },
        "id": "jPwTSWXbNUl9",
        "outputId": "7844ffea-3443-4b1a-ffbb-f2d9224ac594"
      },
      "outputs": [
        {
          "output_type": "execute_result",
          "data": {
            "text/plain": [
              "array([35, 36,  6, ..., 28,  0,  5], dtype=uint8)"
            ]
          },
          "metadata": {},
          "execution_count": 13
        }
      ],
      "source": [
        "labels"
      ]
    },
    {
      "cell_type": "code",
      "execution_count": null,
      "metadata": {
        "id": "RYNLNftfOoB0"
      },
      "outputs": [],
      "source": [
        "from sklearn.preprocessing import LabelBinarizer\n",
        "from sklearn.model_selection import train_test_split"
      ]
    },
    {
      "cell_type": "code",
      "execution_count": null,
      "metadata": {
        "id": "W2-G2vizOrKF"
      },
      "outputs": [],
      "source": [
        "le = LabelBinarizer()\n",
        "labels = le.fit_transform(labels)\n",
        "\n",
        "counts = labels.sum(axis=0)\n",
        "\n",
        "# account for skew in the labeled data\n",
        "classTotals = labels.sum(axis=0)\n",
        "classWeight = {}\n",
        "\n",
        "characters = ['0','1','2','3','4','5','6','7','8','9','A','B','C','D','E','F','G','H','I','J','K','L','M','N','O','P','Q','R','S','T','U','V','W','X','Y','Z','a','b','c','d','e','f','g','h','i','j','k','l','m','n','o','p','q','r','s','t','u','v','w','x','y','z']\n",
        "for i in range(0, len(classTotals)):\n",
        "    classWeight[i] = classTotals.max() / classTotals[i]"
      ]
    },
    {
      "cell_type": "code",
      "execution_count": null,
      "metadata": {
        "id": "pPCwmosAQqNd",
        "colab": {
          "base_uri": "https://localhost:8080/"
        },
        "outputId": "4545dd26-308f-42d0-b3ed-de07370aaf0d"
      },
      "outputs": [
        {
          "output_type": "execute_result",
          "data": {
            "text/plain": [
              "array([40363, 44704, 40072, 41112, 39154, 36606, 39937, 41893, 39579,\n",
              "       39533,  7469,  4526, 11833,  5341,  5785, 10622,  2964,  3673,\n",
              "       13994,  4388,  2850,  5886, 10487,  9588, 29139,  9744,  3018,\n",
              "        5882, 24272, 11396, 14604,  5433,  5501,  3203,  5541,  3165,\n",
              "       11677,  6012,  3286, 11860, 28723,  2961,  4276, 10217,  3152,\n",
              "        2213,  2957, 17853,  3109, 13316,  3215,  2816,  3499, 16425,\n",
              "        3136, 21227,  3312,  3378,  3164,  3292,  2746,  3176])"
            ]
          },
          "metadata": {},
          "execution_count": 16
        }
      ],
      "source": [
        "classTotals"
      ]
    },
    {
      "cell_type": "code",
      "execution_count": null,
      "metadata": {
        "id": "1EqMnos2RKHP",
        "colab": {
          "base_uri": "https://localhost:8080/"
        },
        "outputId": "049f3237-368c-4f8d-cdf5-0768079a7976"
      },
      "outputs": [
        {
          "output_type": "execute_result",
          "data": {
            "text/plain": [
              "54"
            ]
          },
          "metadata": {},
          "execution_count": 17
        }
      ],
      "source": [
        "9*6"
      ]
    },
    {
      "cell_type": "code",
      "execution_count": null,
      "metadata": {
        "id": "Xla9duHyQv55",
        "colab": {
          "base_uri": "https://localhost:8080/"
        },
        "outputId": "3c2a73d6-13ef-42f2-8015-f259813656b0"
      },
      "outputs": [
        {
          "output_type": "execute_result",
          "data": {
            "text/plain": [
              "{0: 1.1075489928895275,\n",
              " 1: 1.0,\n",
              " 2: 1.1155919345178678,\n",
              " 3: 1.087371083868457,\n",
              " 4: 1.1417479695561117,\n",
              " 5: 1.22122056493471,\n",
              " 6: 1.1193629967198337,\n",
              " 7: 1.0670995154321725,\n",
              " 8: 1.129487859723591,\n",
              " 9: 1.130802114688994,\n",
              " 10: 5.985272459499264,\n",
              " 11: 9.877154220061865,\n",
              " 12: 3.7779092368799123,\n",
              " 13: 8.36996817075454,\n",
              " 14: 7.727571305099395,\n",
              " 15: 4.208623611372623,\n",
              " 16: 15.082321187584345,\n",
              " 17: 12.170977402668118,\n",
              " 18: 3.1945119336858654,\n",
              " 19: 10.18778486782133,\n",
              " 20: 15.685614035087719,\n",
              " 21: 7.594971117906898,\n",
              " 22: 4.262801563840946,\n",
              " 23: 4.662494785148102,\n",
              " 24: 1.5341638354095886,\n",
              " 25: 4.587848932676519,\n",
              " 26: 14.81245858184228,\n",
              " 27: 7.60013600816049,\n",
              " 28: 1.84179301252472,\n",
              " 29: 3.922779922779923,\n",
              " 30: 3.061079156395508,\n",
              " 31: 8.22823486103442,\n",
              " 32: 8.126522450463552,\n",
              " 33: 13.956915391820168,\n",
              " 34: 8.067857787402996,\n",
              " 35: 14.124486571879936,\n",
              " 36: 3.8283805772030486,\n",
              " 37: 7.43579507651364,\n",
              " 38: 13.60438222763238,\n",
              " 39: 3.769308600337268,\n",
              " 40: 1.5563833861365457,\n",
              " 41: 15.097602161431949,\n",
              " 42: 10.45463049579046,\n",
              " 43: 4.3754526769110305,\n",
              " 44: 14.182741116751268,\n",
              " 45: 20.20063262539539,\n",
              " 46: 15.118025025363544,\n",
              " 47: 2.5040049291435613,\n",
              " 48: 14.378899967835316,\n",
              " 49: 3.35716431360769,\n",
              " 50: 13.904821150855366,\n",
              " 51: 15.875,\n",
              " 52: 12.776221777650758,\n",
              " 53: 2.721704718417047,\n",
              " 54: 14.255102040816327,\n",
              " 55: 2.1059970791915954,\n",
              " 56: 13.497584541062801,\n",
              " 57: 13.233866193013618,\n",
              " 58: 14.128950695322377,\n",
              " 59: 13.57958687727825,\n",
              " 60: 16.279679533867444,\n",
              " 61: 14.075566750629722}"
            ]
          },
          "metadata": {},
          "execution_count": 18
        }
      ],
      "source": [
        "classWeight"
      ]
    },
    {
      "cell_type": "code",
      "execution_count": null,
      "metadata": {
        "id": "rKqAbSoGRghJ",
        "colab": {
          "base_uri": "https://localhost:8080/"
        },
        "outputId": "51669099-c35c-4e46-f33d-34a8812a9445"
      },
      "outputs": [
        {
          "output_type": "execute_result",
          "data": {
            "text/plain": [
              "14.075566750629722"
            ]
          },
          "metadata": {},
          "execution_count": 19
        }
      ],
      "source": [
        "classTotals.max() / classTotals[i]"
      ]
    },
    {
      "cell_type": "code",
      "execution_count": null,
      "metadata": {
        "id": "voyAQkyoRiLk"
      },
      "outputs": [],
      "source": [
        "# from sklearn.preprocessing import \n",
        "trainX, testX, trainY, testY = train_test_split(data,labels, test_size=0.20, stratify=labels, random_state=42)"
      ]
    },
    {
      "cell_type": "code",
      "execution_count": null,
      "metadata": {
        "id": "uRiiLOvxWzok",
        "colab": {
          "base_uri": "https://localhost:8080/"
        },
        "outputId": "af6d5398-c633-4818-bf6d-c8f26a14688c"
      },
      "outputs": [
        {
          "output_type": "execute_result",
          "data": {
            "text/plain": [
              "(651404, 32, 32, 1)"
            ]
          },
          "metadata": {},
          "execution_count": 21
        }
      ],
      "source": [
        "trainX.shape"
      ]
    },
    {
      "cell_type": "code",
      "execution_count": null,
      "metadata": {
        "id": "3hAVdkxjW526",
        "colab": {
          "base_uri": "https://localhost:8080/"
        },
        "outputId": "84caf6d4-dd01-4c59-f491-046b8fe3a273"
      },
      "outputs": [
        {
          "output_type": "execute_result",
          "data": {
            "text/plain": [
              "(162851, 62)"
            ]
          },
          "metadata": {},
          "execution_count": 22
        }
      ],
      "source": [
        "testY.shape"
      ]
    },
    {
      "cell_type": "code",
      "execution_count": null,
      "metadata": {
        "id": "M0VXJ0pjZabd",
        "colab": {
          "base_uri": "https://localhost:8080/"
        },
        "outputId": "50be2470-9cc1-47f3-a904-5daf9cfa165d"
      },
      "outputs": [
        {
          "output_type": "execute_result",
          "data": {
            "text/plain": [
              "(651404, 62)"
            ]
          },
          "metadata": {},
          "execution_count": 23
        }
      ],
      "source": [
        "trainY.shape"
      ]
    },
    {
      "cell_type": "code",
      "execution_count": null,
      "metadata": {
        "id": "m3XaYzV5Zs0B"
      },
      "outputs": [],
      "source": [
        "from keras.preprocessing.image import ImageDataGenerator\n",
        "from skimage import io\n",
        "aug = ImageDataGenerator(\n",
        "rotation_range=10,\n",
        "zoom_range=0.05,\n",
        "width_shift_range=0.1,\n",
        "height_shift_range=0.1,\n",
        "shear_range=0.15,\n",
        "horizontal_flip=False,\n",
        "fill_mode=\"nearest\")"
      ]
    },
    {
      "cell_type": "code",
      "execution_count": null,
      "metadata": {
        "id": "LxBNI3uOZvEA"
      },
      "outputs": [],
      "source": [
        "batch_size = 128\n",
        "epochs = 10"
      ]
    },
    {
      "cell_type": "code",
      "execution_count": 26,
      "metadata": {
        "colab": {
          "base_uri": "https://localhost:8080/"
        },
        "id": "VVaTjqrbZ4O6",
        "outputId": "30b22509-aafd-489d-d6c3-f2202fd37166"
      },
      "outputs": [
        {
          "output_type": "stream",
          "name": "stdout",
          "text": [
            "Model: \"sequential\"\n",
            "_________________________________________________________________\n",
            " Layer (type)                Output Shape              Param #   \n",
            "=================================================================\n",
            " resnet50 (Functional)       (None, 1, 1, 2048)        23581440  \n",
            "                                                                 \n",
            " global_average_pooling2d (G  (None, 2048)             0         \n",
            " lobalAveragePooling2D)                                          \n",
            "                                                                 \n",
            " dense (Dense)               (None, 62)                127038    \n",
            "                                                                 \n",
            "=================================================================\n",
            "Total params: 23,708,478\n",
            "Trainable params: 23,655,358\n",
            "Non-trainable params: 53,120\n",
            "_________________________________________________________________\n",
            "Epoch 1/10\n",
            "20357/20357 [==============================] - 811s 39ms/step - loss: 0.8070 - accuracy: 0.7652\n",
            "Epoch 2/10\n",
            "20357/20357 [==============================] - 783s 38ms/step - loss: 0.4394 - accuracy: 0.8434\n",
            "Epoch 3/10\n",
            "20357/20357 [==============================] - 773s 38ms/step - loss: 0.4037 - accuracy: 0.8536\n",
            "Epoch 4/10\n",
            "20357/20357 [==============================] - 772s 38ms/step - loss: 0.3832 - accuracy: 0.8591\n",
            "Epoch 5/10\n",
            "20357/20357 [==============================] - 775s 38ms/step - loss: 0.3741 - accuracy: 0.8624\n",
            "Epoch 6/10\n",
            "20357/20357 [==============================] - 778s 38ms/step - loss: 0.3659 - accuracy: 0.8644\n",
            "Epoch 7/10\n",
            "20357/20357 [==============================] - 775s 38ms/step - loss: 0.3639 - accuracy: 0.8651\n",
            "Epoch 8/10\n",
            "20357/20357 [==============================] - 783s 38ms/step - loss: 0.3624 - accuracy: 0.8652\n",
            "Epoch 9/10\n",
            "20357/20357 [==============================] - 781s 38ms/step - loss: 0.3589 - accuracy: 0.8665\n",
            "Epoch 10/10\n",
            "20357/20357 [==============================] - 781s 38ms/step - loss: 0.3593 - accuracy: 0.8661\n",
            "5090/5090 [==============================] - 76s 15ms/step - loss: 6.3556 - accuracy: 0.8524\n"
          ]
        }
      ],
      "source": [
        "enet = ResNet50(\n",
        "        input_shape=(32, 32, 1),\n",
        "        weights=None,\n",
        "        include_top=False\n",
        "    )\n",
        "\n",
        "model = tf.keras.Sequential([\n",
        "        enet,\n",
        "        tf.keras.layers.GlobalAveragePooling2D(),\n",
        "        tf.keras.layers.Dense(62, activation='softmax')\n",
        "    ])\n",
        "# model = keras.Sequential([\n",
        "#                         keras.layers.Flatten(input_shape=(28,28)),\n",
        "#                         keras.layers.Dense(128,activation='relu'),\n",
        "#                         keras.layers.Dense(10,activation='softmax')\n",
        "# ])\n",
        "model.compile(\n",
        "    optimizer=tf.keras.optimizers.Adam(learning_rate=1e-3),\n",
        "    loss='categorical_crossentropy',\n",
        "    metrics=['accuracy']\n",
        ")\n",
        "\n",
        "\n",
        "# model.compile(optimizer = 'adam',loss='sparse_categorical_crossentropy',metrics=['accuracy'])\n",
        "# model.fit(trainX,trainY,epochs =10)\n",
        "model.summary()\n",
        "H = model.fit(trainX,trainY,epochs=10)\n",
        "test_loss,test_auc=model.evaluate(testX,testY)\n"
      ]
    },
    {
      "cell_type": "code",
      "execution_count": 27,
      "metadata": {
        "id": "n2CX37kkYp7a",
        "colab": {
          "base_uri": "https://localhost:8080/",
          "height": 172
        },
        "outputId": "1c777471-eb49-46f5-e7f0-809e91bf5421"
      },
      "outputs": [
        {
          "output_type": "error",
          "ename": "NameError",
          "evalue": "ignored",
          "traceback": [
            "\u001b[0;31m---------------------------------------------------------------------------\u001b[0m",
            "\u001b[0;31mNameError\u001b[0m                                 Traceback (most recent call last)",
            "\u001b[0;32m<ipython-input-27-4e1243bd22c6>\u001b[0m in \u001b[0;36m<module>\u001b[0;34m()\u001b[0m\n\u001b[0;32m----> 1\u001b[0;31m \u001b[0mtest\u001b[0m\u001b[0;34m\u001b[0m\u001b[0;34m\u001b[0m\u001b[0m\n\u001b[0m",
            "\u001b[0;31mNameError\u001b[0m: name 'test' is not defined"
          ]
        }
      ],
      "source": [
        "test"
      ]
    },
    {
      "cell_type": "code",
      "source": [
        "test_loss,test_auc=model.evaluate(testX,testY)"
      ],
      "metadata": {
        "colab": {
          "base_uri": "https://localhost:8080/"
        },
        "id": "B4fP58rlfLOj",
        "outputId": "50accf21-3fcb-4a23-90c1-8d09eab7128a"
      },
      "execution_count": 28,
      "outputs": [
        {
          "output_type": "stream",
          "name": "stdout",
          "text": [
            "5090/5090 [==============================] - 81s 16ms/step - loss: 6.3556 - accuracy: 0.8524\n"
          ]
        }
      ]
    },
    {
      "cell_type": "code",
      "execution_count": null,
      "metadata": {
        "id": "m8KbXe1LSyrP"
      },
      "outputs": [],
      "source": [
        "# model.summary()"
      ]
    },
    {
      "cell_type": "code",
      "execution_count": 29,
      "metadata": {
        "id": "vnwV9Ig2OZUV"
      },
      "outputs": [],
      "source": [
        "from keras.models import load_model\n",
        "\n",
        "from keras.models import model_from_json\n",
        "\n",
        "model_json = model.to_json()\n",
        "with open(\"hand.json\", \"w\") as json_file:\n",
        "    json_file.write(model_json)\n",
        "#saves the model info as json file\n",
        "    \n",
        "model.save_weights(\"hand.h5\")\n",
        "# Creates a HDF5 file 'model.h5'"
      ]
    },
    {
      "cell_type": "code",
      "source": [
        "model.predict(testX)"
      ],
      "metadata": {
        "colab": {
          "base_uri": "https://localhost:8080/"
        },
        "id": "Y6Awst_xfZRc",
        "outputId": "35baabe6-a5f1-48bf-d007-735de74e7b70"
      },
      "execution_count": 31,
      "outputs": [
        {
          "output_type": "execute_result",
          "data": {
            "text/plain": [
              "array([[6.0958934e-07, 6.9650108e-01, 8.7644894e-06, ..., 2.0292534e-06,\n",
              "        2.6124766e-05, 2.4691973e-08],\n",
              "       [1.0144653e-06, 7.7257374e-09, 6.8748378e-08, ..., 1.4638122e-09,\n",
              "        6.1612255e-08, 2.5530019e-07],\n",
              "       [3.3046421e-05, 6.5335502e-07, 2.9735168e-04, ..., 8.2338030e-09,\n",
              "        2.9753335e-07, 1.3297836e-07],\n",
              "       ...,\n",
              "       [2.3347550e-07, 5.7314455e-09, 7.7958984e-10, ..., 4.5378762e-12,\n",
              "        2.6337491e-13, 4.2058506e-11],\n",
              "       [3.1136194e-06, 4.0716142e-07, 7.7361477e-08, ..., 1.4451833e-08,\n",
              "        6.3686266e-06, 1.3238314e-09],\n",
              "       [1.9921516e-05, 8.4903277e-04, 1.3055417e-04, ..., 7.6114162e-07,\n",
              "        1.1038490e-05, 4.3059455e-07]], dtype=float32)"
            ]
          },
          "metadata": {},
          "execution_count": 31
        }
      ]
    },
    {
      "cell_type": "code",
      "source": [
        "from sklearn.metrics import classification_report\n",
        "# evaluate the network\n",
        "print(\"[INFO] evaluating network...\")\n",
        "predictions = model.predict(testX, 128)\n",
        "print(classification_report(testY.argmax(axis=1),\n",
        "\tpredictions.argmax(axis=1), target_names=characters))"
      ],
      "metadata": {
        "colab": {
          "base_uri": "https://localhost:8080/"
        },
        "id": "O_g5Y-JgfPSb",
        "outputId": "45798267-625c-4cd9-b0e1-c0395687804e"
      },
      "execution_count": 30,
      "outputs": [
        {
          "output_type": "stream",
          "name": "stdout",
          "text": [
            "[INFO] evaluating network...\n",
            "              precision    recall  f1-score   support\n",
            "\n",
            "           0       0.67      0.88      0.76      8073\n",
            "           1       0.66      0.94      0.78      8941\n",
            "           2       0.95      0.98      0.97      8014\n",
            "           3       0.99      0.72      0.83      8223\n",
            "           4       0.97      0.98      0.97      7831\n",
            "           5       0.95      0.94      0.95      7321\n",
            "           6       0.98      0.97      0.97      7987\n",
            "           7       0.77      0.99      0.87      8379\n",
            "           8       0.99      0.98      0.98      7916\n",
            "           9       0.93      0.98      0.95      7907\n",
            "           A       0.95      0.97      0.96      1494\n",
            "           B       0.94      0.95      0.94       905\n",
            "           C       0.76      0.94      0.84      2367\n",
            "           D       0.86      0.90      0.88      1068\n",
            "           E       0.96      0.98      0.97      1157\n",
            "           F       0.78      0.98      0.87      2124\n",
            "           G       0.94      0.85      0.89       593\n",
            "           H       0.94      0.96      0.95       735\n",
            "           I       0.65      0.47      0.55      2799\n",
            "           J       0.87      0.80      0.83       878\n",
            "           K       0.62      0.91      0.74       570\n",
            "           L       0.87      0.93      0.90      1177\n",
            "           M       0.78      0.92      0.85      2097\n",
            "           N       0.93      0.99      0.96      1918\n",
            "           O       0.72      0.46      0.56      5828\n",
            "           P       0.81      0.95      0.88      1949\n",
            "           Q       0.90      0.95      0.92       604\n",
            "           R       0.92      0.98      0.95      1176\n",
            "           S       0.82      0.94      0.87      4854\n",
            "           T       0.91      0.93      0.92      2279\n",
            "           U       0.79      0.94      0.86      2921\n",
            "           V       0.69      0.56      0.62      1087\n",
            "           W       0.81      0.88      0.84      1100\n",
            "           X       0.73      0.75      0.74       641\n",
            "           Y       0.71      0.84      0.77      1108\n",
            "           Z       0.73      0.54      0.62       633\n",
            "           a       0.93      0.94      0.94      2335\n",
            "           b       0.85      0.91      0.88      1202\n",
            "           c       0.39      0.06      0.10       657\n",
            "           d       0.97      0.98      0.97      2372\n",
            "           e       0.98      0.98      0.98      5745\n",
            "           f       0.44      0.02      0.04       592\n",
            "           g       0.83      0.53      0.65       855\n",
            "           h       0.96      0.93      0.95      2043\n",
            "           i       0.76      0.40      0.52       630\n",
            "           j       0.81      0.57      0.67       443\n",
            "           k       0.85      0.45      0.59       591\n",
            "           l       0.52      0.14      0.22      3571\n",
            "           m       0.44      0.16      0.23       622\n",
            "           n       0.93      0.95      0.94      2663\n",
            "           o       0.50      0.00      0.00       643\n",
            "           p       0.71      0.28      0.40       563\n",
            "           q       0.71      0.44      0.54       700\n",
            "           r       0.96      0.96      0.96      3285\n",
            "           s       0.60      0.00      0.01       627\n",
            "           t       0.96      0.93      0.95      4245\n",
            "           u       0.56      0.03      0.06       662\n",
            "           v       0.47      0.65      0.54       676\n",
            "           w       0.76      0.66      0.71       633\n",
            "           x       0.72      0.73      0.73       658\n",
            "           y       0.64      0.39      0.48       549\n",
            "           z       0.61      0.56      0.59       635\n",
            "\n",
            "    accuracy                           0.85    162851\n",
            "   macro avg       0.79      0.73      0.73    162851\n",
            "weighted avg       0.85      0.85      0.84    162851\n",
            "\n"
          ]
        }
      ]
    },
    {
      "cell_type": "code",
      "source": [
        "from imutils import build_montages\n",
        "# initialize our list of output test images\n",
        "images = []\n",
        "# randomly select a few testing characters\n",
        "for i in np.random.choice(np.arange(0, len(testY)), size=(49,)):\n",
        "\t# classify the character\n",
        "\tprobs = model.predict(testX[np.newaxis, i])\n",
        "\tprediction = probs.argmax(axis=1)\n",
        "\tlabel = characters[prediction[0]]\n",
        "\t# extract the image from the test data and initialize the text\n",
        "\t# label color as green (correct)\n",
        "\timage = (testX[i] * 255).astype(\"uint8\")\n",
        "\tcolor = (0, 255, 0)\n",
        "\t# otherwise, the class label prediction is incorrect\n",
        "\tif prediction[0] != np.argmax(testY[i]):\n",
        "\t\tcolor = (0, 0, 255)\n",
        "\t# merge the channels into one image, resize the image from 32x32\n",
        "\t# to 96x96 so we can better see it and then draw the predicted\n",
        "\t# label on the image\n",
        "\timage = cv.merge([image] * 3)\n",
        "\timage = cv.resize(image, (96, 96), interpolation=cv.INTER_LINEAR)\n",
        "\tcv.putText(image, label, (5, 20), cv.FONT_HERSHEY_SIMPLEX, 0.75,\n",
        "\t\tcolor, 2)\n",
        "\t# add the image to our list of output images\n",
        "\timages.append(image)\n",
        "# construct the montage for the images\n",
        "montage = build_montages(images, (96, 96), (7, 7))[0]\n",
        "# show the output montage\n",
        "plt.figure(figsize=(10,5))\n",
        "# plt.savefig('image3.png')\n",
        "plt.imshow( montage)\n",
        "plt.show()"
      ],
      "metadata": {
        "colab": {
          "base_uri": "https://localhost:8080/",
          "height": 323
        },
        "id": "W7E9W39rgjuR",
        "outputId": "5d1c3bd6-7e85-436b-b26f-c6910a648398"
      },
      "execution_count": 43,
      "outputs": [
        {
          "output_type": "display_data",
          "data": {
            "text/plain": [
              "<Figure size 720x360 with 1 Axes>"
            ],
            "image/png": "[encoded data removed]"
          },
          "metadata": {
            "needs_background": "light"
          }
        }
      ]
    },
    {
      "cell_type": "code",
      "execution_count": 44,
      "metadata": {
        "id": "HhwtCKE_8Q5D",
        "colab": {
          "base_uri": "https://localhost:8080/",
          "height": 283
        },
        "outputId": "0aa238a6-c21e-4d30-cd1e-8f6ed1e030f4"
      },
      "outputs": [
        {
          "output_type": "execute_result",
          "data": {
            "text/plain": [
              "<function matplotlib.pyplot.show>"
            ]
          },
          "metadata": {},
          "execution_count": 44
        },
        {
          "output_type": "display_data",
          "data": {
            "text/plain": [
              "<Figure size 432x288 with 1 Axes>"
            ],
            "image/png": "[encoded data removed]"
          },
          "metadata": {
            "needs_background": "light"
          }
        }
      ],
      "source": [
        "#Display a random image\n",
        "plt.imshow(X_train[0])\n",
        "plt.show"
      ]
    },
    {
      "cell_type": "code",
      "execution_count": null,
      "metadata": {
        "id": "QlxGDjSJGEo8"
      },
      "outputs": [],
      "source": [
        "# #Y'all can see how an image array looks like. all float values b/w 0 and 1\n",
        "# m = X_train[2]\n",
        "# print(m)"
      ]
    },
    {
      "cell_type": "code",
      "execution_count": null,
      "metadata": {
        "id": "0eDH0HN7GJWi"
      },
      "outputs": [],
      "source": [
        "# for t in range(697932):\n",
        "#     X_train[t]=np.transpose(X_train[t])\n",
        "    \n",
        "# #checking\n",
        "# plt.imshow(X_train[0])\n",
        "# plt.show\n",
        "\n",
        "# #for test data  \n",
        "# for t in range(116323):\n",
        "#     X_test[t]=np.transpose(X_test[t])\n",
        "\n",
        "# #checking\n",
        "# plt.imshow(X_test[1])\n",
        "# plt.show\n",
        "\n",
        "# print('Process Complete: Rotated and reversed test and train images!')"
      ]
    },
    {
      "cell_type": "code",
      "execution_count": null,
      "metadata": {
        "id": "IvrWaU3FGOgM"
      },
      "outputs": [],
      "source": [
        "# #Checking the last train image, just to be sure!\n",
        "# m = X_train[697931]\n",
        "# plt.imshow(m)\n",
        "# plt.show"
      ]
    },
    {
      "cell_type": "code",
      "execution_count": null,
      "metadata": {
        "id": "Qgx_AU5jGTh7"
      },
      "outputs": [],
      "source": [
        "# X_train = X_train.reshape(X_train.shape[0], 784,1)\n",
        "# X_test = X_test.reshape(X_test.shape[0], 784,1)"
      ]
    },
    {
      "cell_type": "code",
      "execution_count": null,
      "metadata": {
        "id": "iDnsJVxsGbR5"
      },
      "outputs": [],
      "source": [
        "\n",
        "# def resh(ipar):\n",
        "#     opar = []\n",
        "#     for image in ipar:\n",
        "#         opar.append(image.reshape(-1))\n",
        "#     return np.asarray(opar)\n",
        "\n",
        "# from keras.utils import np_utils\n",
        "\n",
        "# train_images = X_train.astype('float32')\n",
        "# test_images = X_test.astype('float32')\n",
        "\n",
        "# train_images = resh(train_images)\n",
        "# test_images = resh(test_images)\n",
        "\n",
        "\n",
        "# train_labels = np_utils.to_categorical(y_train, 62)\n",
        "# test_labels = np_utils.to_categorical(y_test, 62)\n",
        "\n",
        "# # model = keras.Sequential([\n",
        "# #                         keras.layers.Flatten(input_shape=(784,28,28,1)),\n",
        "# #                         keras.layers.Dense(128,activation='relu'),\n",
        "# #                         keras.layers.Dense(10,activation='softmax')\n",
        "# # ])\n",
        "# # model.compile(optimizer = 'adam',loss='sparse_categorical_crossentropy',metrics=['accuracy'])\n",
        "# # model.fit(train_images,train_labels,epochs =10)\n",
        "# K.set_learning_phase(1)\n",
        "\n",
        "# model = Sequential()\n",
        "\n",
        "# model.add(Reshape((28,28,1), input_shape=(784,)))\n",
        "\n",
        "# #add the layer below for an accuracy of 89%.(Training time - over 20 hours)\n",
        "# model.add(Convolution2D(32, (5,5), input_shape=(28,28,1),activation='relu',padding='same',kernel_constraint=maxnorm(3)))\n",
        "# model.add(Convolution2D(32, (5,5),activation='relu'))\n",
        "\n",
        "# model.add(MaxPooling2D(pool_size=(2,2)))\n",
        "\n",
        "\n",
        "\n",
        "\n",
        "\n",
        "\n",
        "\n",
        "# model.add(Flatten())\n",
        "\n",
        "\n",
        "\n",
        "\n",
        "# #model.add(Dense(1024, activation='relu', kernel_constraint=maxnorm(3)))\n",
        "# model.add(Dense(512, activation='relu', kernel_constraint=maxnorm(3)))\n",
        "\n",
        "\n",
        "\n",
        "# model.add(Dropout(0.5))\n",
        "\n",
        "# model.add(Dense(62, activation='softmax'))\n",
        "\n",
        "# #opt = optimizers.Adam(lr=0.001, beta_1=0.9, beta_2=0.999, epsilon=1e-8)\n",
        "# #opt = optimizers.Adadelta()\n",
        "# opt = keras.optimizers.Adam(lr=0.003, beta_1=0.9, beta_2=0.999, epsilon=None, decay=0.0)\n",
        "# model.compile(loss='categorical_crossentropy', optimizer=opt, metrics=['accuracy'])"
      ]
    },
    {
      "cell_type": "code",
      "execution_count": null,
      "metadata": {
        "id": "nSlTMkFfYS5w"
      },
      "outputs": [],
      "source": [
        "# from keras.preprocessing.image import ImageDataGenerator\n",
        "# from skimage import io\n",
        "# aug = ImageDataGenerator(\n",
        "# rotation_range=10,\n",
        "# zoom_range=0.05,\n",
        "# width_shift_range=0.1,\n",
        "# height_shift_range=0.1,\n",
        "# shear_range=0.15,\n",
        "# horizontal_flip=False,\n",
        "# fill_mode=\"nearest\")"
      ]
    },
    {
      "cell_type": "code",
      "execution_count": null,
      "metadata": {
        "id": "NKSVqqSDR0Vb"
      },
      "outputs": [],
      "source": [
        "# print(model.summary())\n",
        "# history = model.fit(train_images,train_labels,validation_data=(test_images, test_labels),  epochs=2)"
      ]
    },
    {
      "cell_type": "code",
      "execution_count": null,
      "metadata": {
        "id": "DsC1jH_zSc4W"
      },
      "outputs": [],
      "source": [
        "# 1e-3"
      ]
    },
    {
      "cell_type": "code",
      "execution_count": null,
      "metadata": {
        "id": "KP8u3qZ2UqUh"
      },
      "outputs": [],
      "source": [
        "# #evaluating model on test data. will take time\n",
        "# scores = model.evaluate(test_images,test_labels, verbose = 0)\n",
        "# # print(\"Accuracy: %.2f%%\"%(scores[1]*100))"
      ]
    },
    {
      "cell_type": "code",
      "execution_count": null,
      "metadata": {
        "id": "Qlk9foJYUuGA"
      },
      "outputs": [],
      "source": [
        "# print(history.history.keys())\n",
        "# # summarize history for accuracy\n",
        "# plt.plot(history.history['accuracy'])\n",
        "# plt.plot(history.history['val_accuracy'])\n",
        "# plt.title('Model Accuracy')\n",
        "# plt.ylabel('Accuracy')\n",
        "# plt.xlabel('Epoch')\n",
        "# plt.legend(['Train', 'Test'], loc='upper left')\n",
        "# plt.grid()\n",
        "# plt.show()\n",
        "# # summarize history for loss\n",
        "# plt.plot(history.history['loss'])\n",
        "# plt.plot(history.history['val_loss'])\n",
        "# plt.title('Model loss')\n",
        "# plt.ylabel('Loss')\n",
        "# plt.xlabel('Epoch')\n",
        "# plt.legend(['Train', 'Test'], loc='upper left')\n",
        "# plt.grid()\n",
        "# plt.show()"
      ]
    },
    {
      "cell_type": "code",
      "execution_count": null,
      "metadata": {
        "id": "bxNxf5WUVJhC"
      },
      "outputs": [],
      "source": [
        "# objects = ('RMSDrop', 'Adam', 'Adamax', 'SGD', 'Adadelta')\n",
        "# y_pos = np.arange(len(objects))\n",
        "# performance = [86.2,85.39,89.53,84.29,87.11]\n",
        " \n",
        "# plt.bar(y_pos, performance, align='center', alpha=0.5)\n",
        "# plt.xticks(y_pos, objects)\n",
        "# plt.ylabel('Accuracy')\n",
        "# plt.title('Optimizers')\n",
        "# plt.ylim(50,100)\n",
        "# plt.show()"
      ]
    },
    {
      "cell_type": "code",
      "execution_count": null,
      "metadata": {
        "id": "w8UXOvvfV_S6"
      },
      "outputs": [],
      "source": [
        "# m = X_test[258].reshape(28,28)\n",
        "# plt.imshow(m)\n",
        "# plt.show\n",
        "# print('prediction: '+str(model.predict(X_test[258].reshape(1,784))))"
      ]
    },
    {
      "cell_type": "code",
      "execution_count": null,
      "metadata": {
        "id": "9J0crERPV_Jz"
      },
      "outputs": [],
      "source": [
        "# from keras.models import load_model\n",
        "\n",
        "# from keras.models import model_from_json\n",
        "\n",
        "# model_json = model.to_json()\n",
        "# with open(\"model.json\", \"w\") as json_file:\n",
        "#     json_file.write(model_json)\n",
        "# #saves the model info as json file\n",
        "    \n",
        "# model.save_weights(\"model.h5\")\n",
        "# # Creates a HDF5 file 'model.h5'"
      ]
    },
    {
      "cell_type": "code",
      "execution_count": null,
      "metadata": {
        "id": "tlzjwxRAcw2i"
      },
      "outputs": [],
      "source": [
        "from keras.models import load_model\n",
        "from keras.models import model_from_json\n",
        "\n",
        "json_file = open('model.json', 'r')\n",
        "loaded_model_json = json_file.read()\n",
        "json_file.close()\n",
        "loaded_model = model_from_json(loaded_model_json)\n",
        "\n",
        "\n",
        "loaded_model.load_weights('model.h5')\n",
        "\n",
        "model = loaded_model\n",
        "\n",
        "\n",
        "print('Model successfully loaded')"
      ]
    },
    {
      "cell_type": "code",
      "execution_count": null,
      "metadata": {
        "id": "HxcL_uO4-pC0"
      },
      "outputs": [],
      "source": [
        "labelNames = ['0','1','2','3','4','5','6','7','8','9','A','B','C','D','E','F','G','H','I','J','K','L','M','N','O','P','Q','R','S','T','U','V','W','X','Y','Z','a','b','c','d','e','f','g','h','i','j','k','l','m','n','o','p','q','r','s','t','u','v','w','x','y','z']\n",
        "\n",
        "from imutils import build_montages\n",
        "# initialize our list of output test images\n",
        "images = []\n",
        "# randomly select a few testing characters\n",
        "for i in np.random.choice(np.arange(0, len(y_test)), size=(49,)):\n",
        "\t# classify the character\n",
        "\tprobs = model.predict(X_test[np.newaxis, i])\n",
        "\tprediction = probs.argmax(axis=1)\n",
        "\tlabel = labelNames[prediction[0]]\n",
        "\t# extract the image from the test data and initialize the text\n",
        "\t# label color as green (correct)\n",
        "\timage = (X_test[i] * 255).astype(\"uint8\")\n",
        "\tcolor = (0, 255, 0)\n",
        "\t# otherwise, the class label prediction is incorrect\n",
        "\tif prediction[0] != np.argmax(y_test[i]):\n",
        "\t\tcolor = (0, 0, 255)\n",
        "\t# merge the channels into one image, resize the image from 32x32\n",
        "\t# to 96x96 so we can better see it and then draw the predicted\n",
        "\t# label on the image\n",
        "\timage = cv.merge([image] * 3)\n",
        "\timage = cv.resize(image, (96, 96), interpolation=cv.INTER_LINEAR)\n",
        "\tcv.putText(image, label, (5, 20), cv.FONT_HERSHEY_SIMPLEX, 0.75,\n",
        "\t\tcolor, 2)\n",
        "\t# add the image to our list of output images\n",
        "\timages.append(image)\n",
        "# construct the montage for the images\n",
        "montage = build_montages(images, (96, 96), (7, 7))[0]\n",
        "# show the output montage\n",
        "plt.imshow( montage)\n",
        "plt.show()"
      ]
    },
    {
      "cell_type": "code",
      "execution_count": null,
      "metadata": {
        "id": "flcSWfXYZ1jD"
      },
      "outputs": [],
      "source": [
        "import cv2\n",
        "from matplotlib import pyplot as plt\n",
        "%matplotlib inline\n",
        "\n",
        "characters = ['0','1','2','3','4','5','6','7','8','9','A','B','C','D','E','F','G','H','I','J','K','L','M','N','O','P','Q','R','S','T','U','V','W','X','Y','Z','a','b','c','d','e','f','g','h','i','j','k','l','m','n','o','p','q','r','s','t','u','v','w','x','y','z']\n",
        "\n",
        "\n",
        "#enter input image here\n",
        "image = cv2.imread('/content/drive/MyDrive/Read Books/Screenshot 2022-05-03 230342.png')\n",
        "height, width, depth = image.shape\n",
        "\n",
        "#resizing the image to find spaces better\n",
        "image = cv2.resize(image, dsize=(width*5,height*4), interpolation=cv2.INTER_CUBIC)\n",
        "#grayscale\n",
        "gray = cv2.cvtColor(image,cv2.COLOR_BGR2GRAY)\n",
        "\n",
        "\n",
        "#binary\n",
        "ret,thresh = cv2.threshold(gray,127,255,cv2.THRESH_BINARY_INV)\n",
        "\n",
        "\n",
        "#dilation\n",
        "kernel = np.ones((5,5), np.uint8)\n",
        "img_dilation = cv2.dilate(thresh, kernel, iterations=1)\n",
        "\n",
        "\n",
        "#adding GaussianBlur\n",
        "gsblur=cv2.GaussianBlur(img_dilation,(5,5),0)\n",
        "\n",
        "\n",
        "#find contours\n",
        "ctrs,hier = cv2.findContours(gsblur.copy(), cv2.RETR_EXTERNAL, cv2.CHAIN_APPROX_SIMPLE)"
      ]
    },
    {
      "cell_type": "code",
      "execution_count": null,
      "metadata": {
        "id": "7IqTgYorA9Rq"
      },
      "outputs": [],
      "source": [
        "\t# re-grab the image dimensions (now that its been resized)\n",
        "# and then determine how much we need to pad the width and\n",
        "# height such that our image will be 32x32\n",
        "(tH, tW) = thresh.shape\n",
        "dX = int(max(0, 32 - tW) / 2.0)\n",
        "dY = int(max(0, 32 - tH) / 2.0)\n",
        "# pad the image and force 32x32 dimensions\n",
        "padded = cv2.copyMakeBorder(thresh, top=dY, bottom=dY,\n",
        "  left=dX, right=dX, borderType=cv2.BORDER_CONSTANT,\n",
        "  value=(0, 0, 0))\n",
        "padded = cv2.resize(padded, (32, 32))\n",
        "# prepare the padded image for classification via our\n",
        "# handwriting OCR model\n"
      ]
    },
    {
      "cell_type": "code",
      "execution_count": null,
      "metadata": {
        "id": "3fOFXBnNpSum"
      },
      "outputs": [],
      "source": [
        "# max_width = max(ctrs, key=lambda r: r[0] + r[2])[0]\n",
        "# max_height = max(ctrs, key=lambda r: r[3])[3]\n",
        "# nearest = max_height * 1.4"
      ]
    },
    {
      "cell_type": "code",
      "execution_count": null,
      "metadata": {
        "id": "4FE9WmgBKeAh"
      },
      "outputs": [],
      "source": [
        "# count = np.unique(ctrs, return_counts=True)[1]\n",
        "# np.repeat(ctrs, count[np.argsort(ctrs)])"
      ]
    },
    {
      "cell_type": "code",
      "execution_count": null,
      "metadata": {
        "id": "X63qaMFlI0P3"
      },
      "outputs": [],
      "source": [
        "# c = ctrs\n",
        "# np.repeat(lambda r: (int(nearest * round(float(r[1])/nearest)) * max_width + r[0])), [c[v] for v in r]))"
      ]
    },
    {
      "cell_type": "code",
      "execution_count": null,
      "metadata": {
        "id": "J9ub2hmUHa_B"
      },
      "outputs": [],
      "source": [
        "# np.repeat(ctrs,np.bincount(ctrs)[ r: (int(nearest * round(float(r[1])/nearest)) * max_width + r[0])])"
      ]
    },
    {
      "cell_type": "code",
      "execution_count": null,
      "metadata": {
        "id": "NIyoLJ1UGpW_"
      },
      "outputs": [],
      "source": [
        "may = (int(nearest * round(float(r[1])/nearest)) * max_width + r[0]))"
      ]
    },
    {
      "cell_type": "code",
      "execution_count": null,
      "metadata": {
        "id": "YsWZF0laCVpQ"
      },
      "outputs": [],
      "source": [
        "ctrs.sort(ctrs,key=lambda r: (int(nearest * round(float(r[1])/nearest)) * max_width + r[0]))"
      ]
    },
    {
      "cell_type": "code",
      "execution_count": null,
      "metadata": {
        "id": "oWPAp2ruok51"
      },
      "outputs": [],
      "source": [
        "m = list()\n",
        "#sort contours\n",
        "sorted_ctrs = sorted(ctrs, key=lambda ctr: cv2.boundingRect(ctr)[0])\n",
        "pchl = list()\n",
        "dp = image.copy()\n",
        "for i, ctr in enumerate(sorted_ctrs):\n",
        "    # Get bounding box\n",
        "    x, y, w, h = cv2.boundingRect(ctr)\n",
        "    cv2.rectangle(dp,(x-10,y-10),( x + w + 10, y + h + 10 ),(90,0,255),9)\n",
        "    \n",
        "plt.imshow(dp)"
      ]
    },
    {
      "cell_type": "code",
      "execution_count": null,
      "metadata": {
        "id": "PKcKwGt2gBU0"
      },
      "outputs": [],
      "source": [
        "image = cv2.imread()\n",
        "height, width, depth = image.shape"
      ]
    },
    {
      "cell_type": "code",
      "execution_count": null,
      "metadata": {
        "id": "nf_KRfDkgGOS"
      },
      "outputs": [],
      "source": [
        "plt.imshow(image),image.shape"
      ]
    },
    {
      "cell_type": "code",
      "execution_count": null,
      "metadata": {
        "id": "x366vMOseohi"
      },
      "outputs": [],
      "source": [
        "y_train.shape"
      ]
    },
    {
      "cell_type": "code",
      "execution_count": null,
      "metadata": {
        "id": "E3YviJTiXdYH"
      },
      "outputs": [],
      "source": [
        "x = X_train[11280][0:]\n",
        "x = x.reshape((28, 28))\n",
        "plt.imshow(x, cmap='gist_yarg')\n",
        "plt.show()"
      ]
    },
    {
      "cell_type": "code",
      "execution_count": null,
      "metadata": {
        "id": "OGSpCjy49qin"
      },
      "outputs": [],
      "source": [
        "X_train = X_train.reshape(X_train.shape[0], 784,1)\n",
        "X_test = X_test.reshape(X_test.shape[0], 784,1)"
      ]
    },
    {
      "cell_type": "code",
      "execution_count": null,
      "metadata": {
        "id": "QM3-gmV0YBeW"
      },
      "outputs": [],
      "source": [
        "X_train.shape"
      ]
    },
    {
      "cell_type": "code",
      "execution_count": null,
      "metadata": {
        "id": "6HSQenoaWHk2"
      },
      "outputs": [],
      "source": [
        "import imutils"
      ]
    },
    {
      "cell_type": "code",
      "execution_count": null,
      "metadata": {
        "id": "Uvl9DPEy8rpc"
      },
      "outputs": [],
      "source": [
        "# load the input image from disk, convert it to grayscale, and blur\n",
        "# it to reduce noise\n",
        "image = cv2.imread('/content/drive/MyDrive/1581999808182.jpg')\n",
        "gray = cv2.cvtColor(image, cv2.COLOR_BGR2GRAY)\n",
        "blurred = cv2.GaussianBlur(gray, (5, 5), 0)\n",
        "# perform edge detection, find contours in the edge map, and sort the\n",
        "# resulting contours from left-to-right\n",
        "edged = cv2.Canny(blurred, 30, 150)\n",
        "cnts = cv2.findContours(edged.copy(), cv2.RETR_EXTERNAL,\n",
        "\tcv2.CHAIN_APPROX_SIMPLE)\n",
        "cnts = imutils.grab_contours(cnts)\n",
        "cnts = sorted_ctrs(cnts, method=\"left-to-right\")[0]\n",
        "# initialize the list of contour bounding boxes and associated\n",
        "# characters that we'll be OCR'ing\n",
        "chars = []\n",
        "# loop over the contours\n",
        "for c in cnts:\n",
        "\t# compute the bounding box of the contour\n",
        "\t(x, y, w, h) = cv2.boundingRect(c)\n",
        "\t# filter out bounding boxes, ensuring they are neither too small\n",
        "\t# nor too large\n",
        "\tif (w >= 5 and w <= 150) and (h >= 15 and h <= 120):\n",
        "\t\t# extract the character and threshold it to make the character\n",
        "\t\t# appear as *white* (foreground) on a *black* background, then\n",
        "\t\t# grab the width and height of the thresholded image\n",
        "\t\troi = gray[y:y + h, x:x + w]\n",
        "\t\tthresh = cv2.threshold(roi, 0, 255,\n",
        "\t\t\tcv2.THRESH_BINARY_INV | cv2.THRESH_OTSU)[1]\n",
        "\t\t(tH, tW) = thresh.shape\n",
        "\t\t# if the width is greater than the height, resize along the\n",
        "\t\t# width dimension\n",
        "\t\tif tW > tH:\n",
        "\t\t\tthresh = imutils.resize(thresh, width=32)\n",
        "\t\t# otherwise, resize along the height\n",
        "\t\telse:\n",
        "\t\t\tthresh = imutils.resize(thresh, height=32)"
      ]
    },
    {
      "cell_type": "code",
      "execution_count": null,
      "metadata": {
        "id": "ZXqDA30nyYHI"
      },
      "outputs": [],
      "source": [
        "# re-grab the image dimensions (now that its been resized)\n",
        "\t\t# and then determine how much we need to pad the width and\n",
        "\t\t# height such that our image will be 32x32\n",
        "\t\t(tH, tW) = thresh.shape\n",
        "\t\tdX = int(max(0, 32 - tW) / 2.0)\n",
        "\t\tdY = int(max(0, 32 - tH) / 2.0)\n",
        "\t\t# pad the image and force 32x32 dimensions\n",
        "\t\tpadded = cv2.copyMakeBorder(thresh, top=dY, bottom=dY,\n",
        "\t\t\tleft=dX, right=dX, borderType=cv2.BORDER_CONSTANT,\n",
        "\t\t\tvalue=(0, 0, 0))\n",
        "\t\tpadded = cv2.resize(padded, (32, 32))\n",
        "\t\t# prepare the padded image for classification via our\n",
        "\t\t# handwriting OCR model\n",
        "\t\tpadded = padded.astype(\"float32\") / 255.0\n",
        "\t\tpadded = np.expand_dims(padded, axis=-1)\n",
        "\t\t# update our list of characters that will be OCR'd\n",
        "\t\tchars.append((padded, (x, y, w, h)))"
      ]
    },
    {
      "cell_type": "code",
      "execution_count": null,
      "metadata": {
        "id": "l8Xd_Zehylg7"
      },
      "outputs": [],
      "source": [
        "# extract the bounding box locations and padded characters\n",
        "boxes = [b[1] for b in chars]\n",
        "chars = np.array([c[0] for c in chars], dtype=\"float32\")\n",
        "# OCR the characters using our handwriting recognition model\n",
        "preds = model.predict(chars)\n",
        "# define the list of label names\n",
        "labelNames = \"0123456789\"\n",
        "labelNames += \"ABCDEFGHIJKLMNOPQRSTUVWXYZ\"\n",
        "labelNames = [l for l in labelNames]"
      ]
    },
    {
      "cell_type": "code",
      "execution_count": null,
      "metadata": {
        "id": "JVQhUtqfzB7d"
      },
      "outputs": [],
      "source": [
        "# loop over the predictions and bounding box locations together\n",
        "for (pred, (x, y, w, h)) in zip(preds, boxes):\n",
        "\t# find the index of the label with the largest corresponding\n",
        "\t# probability, then extract the probability and label\n",
        "\ti = np.argmax(pred)\n",
        "\tprob = pred[i]\n",
        "\tlabel = labelNames[i]\n",
        "\t# draw the prediction on the image\n",
        "\tprint(\"[INFO] {} - {:.2f}%\".format(label, prob * 100))\n",
        "\tcv2.rectangle(image, (x, y), (x + w, y + h), (0, 255, 0), 2)\n",
        "\tcv2.putText(image, label, (x - 10, y - 10),\n",
        "\t\tcv2.FONT_HERSHEY_SIMPLEX, 1.2, (0, 255, 0), 2)\n",
        "\t# show the image\n",
        "\tcv2.imshow(\"Image\", image)\n",
        "\tcv2.waitKey(0)"
      ]
    }
  ],
  "metadata": {
    "accelerator": "GPU",
    "colab": {
      "collapsed_sections": [],
      "machine_shape": "hm",
      "name": "Project.ipynb",
      "provenance": [],
      "mount_file_id": "1buodfLTQ_pPIY8bK5_6Tzc4ljlJ8_76T",
      "authorship_tag": "ABX9TyM/VFSTJFcCfNow2p5fcvkd",
      "include_colab_link": true
    },
    "kernelspec": {
      "display_name": "Python 3",
      "name": "python3"
    },
    "language_info": {
      "name": "python"
    }
  },
  "nbformat": 4,
  "nbformat_minor": 0
}